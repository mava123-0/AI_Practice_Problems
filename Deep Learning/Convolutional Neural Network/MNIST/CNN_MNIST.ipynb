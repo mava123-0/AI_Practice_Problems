{
  "nbformat": 4,
  "nbformat_minor": 0,
  "metadata": {
    "colab": {
      "provenance": [],
      "authorship_tag": "ABX9TyPPzzvXjxeKEMphQ5JBK7f8",
      "include_colab_link": true
    },
    "kernelspec": {
      "name": "python3",
      "display_name": "Python 3"
    },
    "language_info": {
      "name": "python"
    }
  },
  "cells": [
    {
      "cell_type": "markdown",
      "metadata": {
        "id": "view-in-github",
        "colab_type": "text"
      },
      "source": [
        "<a href=\"https://colab.research.google.com/github/mava123-0/AI_Practice_Problems/blob/main/Deep%20Learning/Convolutional%20Neural%20Network/MNIST/CNN_MNIST.ipynb\" target=\"_parent\"><img src=\"https://colab.research.google.com/assets/colab-badge.svg\" alt=\"Open In Colab\"/></a>"
      ]
    },
    {
      "cell_type": "code",
      "execution_count": null,
      "metadata": {
        "id": "PUNDBUW_2xIG"
      },
      "outputs": [],
      "source": [
        "import tensorflow as tf\n",
        "from tensorflow.keras import datasets, layers, models\n",
        "import matplotlib.pyplot as plt\n",
        "import numpy as np"
      ]
    },
    {
      "cell_type": "code",
      "source": [
        "(x_train, y_train), (x_test,y_test) = datasets.mnist.load_data()\n",
        "x_train.shape"
      ],
      "metadata": {
        "colab": {
          "base_uri": "https://localhost:8080/"
        },
        "id": "-vRi77Sg22ut",
        "outputId": "3eb3f609-e278-4ffb-c314-229f48f349f9"
      },
      "execution_count": null,
      "outputs": [
        {
          "output_type": "stream",
          "name": "stdout",
          "text": [
            "Downloading data from https://storage.googleapis.com/tensorflow/tf-keras-datasets/mnist.npz\n",
            "11490434/11490434 [==============================] - 1s 0us/step\n"
          ]
        },
        {
          "output_type": "execute_result",
          "data": {
            "text/plain": [
              "(60000, 28, 28)"
            ]
          },
          "metadata": {},
          "execution_count": 2
        }
      ]
    },
    {
      "cell_type": "code",
      "source": [
        "y_train.shape"
      ],
      "metadata": {
        "colab": {
          "base_uri": "https://localhost:8080/"
        },
        "id": "4UuCL3Zc3SbK",
        "outputId": "2a92fa52-2a7f-4911-c580-06cf5e49a8ae"
      },
      "execution_count": null,
      "outputs": [
        {
          "output_type": "execute_result",
          "data": {
            "text/plain": [
              "(60000,)"
            ]
          },
          "metadata": {},
          "execution_count": 3
        }
      ]
    },
    {
      "cell_type": "code",
      "source": [
        "x_test.shape"
      ],
      "metadata": {
        "colab": {
          "base_uri": "https://localhost:8080/"
        },
        "id": "umKficaZ3Tqt",
        "outputId": "ef7ae7ee-8673-40cf-cbeb-3c791fdf3e96"
      },
      "execution_count": null,
      "outputs": [
        {
          "output_type": "execute_result",
          "data": {
            "text/plain": [
              "(10000, 28, 28)"
            ]
          },
          "metadata": {},
          "execution_count": 4
        }
      ]
    },
    {
      "cell_type": "code",
      "source": [
        "y_test.shape"
      ],
      "metadata": {
        "colab": {
          "base_uri": "https://localhost:8080/"
        },
        "id": "u6ufYdDY3U8M",
        "outputId": "2c0a24b0-1d41-44ed-8502-13c9519df19e"
      },
      "execution_count": null,
      "outputs": [
        {
          "output_type": "execute_result",
          "data": {
            "text/plain": [
              "(10000,)"
            ]
          },
          "metadata": {},
          "execution_count": 5
        }
      ]
    },
    {
      "cell_type": "code",
      "source": [
        "y_test[:5]"
      ],
      "metadata": {
        "colab": {
          "base_uri": "https://localhost:8080/"
        },
        "id": "nwtDEZq830pH",
        "outputId": "96bd939b-0afb-4c34-9091-402bff9dfa9c"
      },
      "execution_count": null,
      "outputs": [
        {
          "output_type": "execute_result",
          "data": {
            "text/plain": [
              "array([7, 2, 1, 0, 4], dtype=uint8)"
            ]
          },
          "metadata": {},
          "execution_count": 6
        }
      ]
    },
    {
      "cell_type": "code",
      "source": [
        "plt.imshow(x_train[1])\n",
        "plt.xlabel(y_train[1])"
      ],
      "metadata": {
        "colab": {
          "base_uri": "https://localhost:8080/",
          "height": 296
        },
        "id": "5eD0YxlK25Vz",
        "outputId": "1e3c41cd-bf34-4829-d046-e84e5e208273"
      },
      "execution_count": null,
      "outputs": [
        {
          "output_type": "execute_result",
          "data": {
            "text/plain": [
              "Text(0.5, 0, '0')"
            ]
          },
          "metadata": {},
          "execution_count": 7
        },
        {
          "output_type": "display_data",
          "data": {
            "text/plain": [
              "<Figure size 432x288 with 1 Axes>"
            ],
            "image/png": "[encoded data removed]"
          },
          "metadata": {
            "needs_background": "light"
          }
        }
      ]
    },
    {
      "cell_type": "markdown",
      "source": [
        "# **Normalize Data**"
      ],
      "metadata": {
        "id": "SqL1QO6p3ixz"
      }
    },
    {
      "cell_type": "code",
      "source": [
        "x_train = x_train/255\n",
        "x_test = x_test/255"
      ],
      "metadata": {
        "id": "uTItENhH3wRF"
      },
      "execution_count": null,
      "outputs": []
    },
    {
      "cell_type": "markdown",
      "source": [
        "# **Model Creation**"
      ],
      "metadata": {
        "id": "6JgqFB3A4ISU"
      }
    },
    {
      "cell_type": "code",
      "source": [
        "cnn = models.Sequential([\n",
        "        layers.Conv2D(filters = 28, kernel_size = (3,3), activation = 'relu', input_shape = (28,28,1)),\n",
        "        layers.MaxPooling2D((2,2)),\n",
        "     \n",
        "        layers.Conv2D(filters = 28, kernel_size = (3,3), activation = 'relu', input_shape = (28,28,1)),\n",
        "        layers.MaxPooling2D((2,2)),\n",
        "\n",
        "        layers.Flatten(),\n",
        "        layers.Dense(64,activation = 'relu'),\n",
        "        layers.Dense(10,activation = 'softmax')   \n",
        "])"
      ],
      "metadata": {
        "id": "lu8lh6024MkL"
      },
      "execution_count": null,
      "outputs": []
    },
    {
      "cell_type": "code",
      "source": [
        "cnn.compile(optimizer = 'adam',\n",
        "            loss = 'sparse_categorical_crossentropy',\n",
        "            metrics = ['accuracy']) "
      ],
      "metadata": {
        "id": "5q4SZ3ss5jRp"
      },
      "execution_count": null,
      "outputs": []
    },
    {
      "cell_type": "code",
      "source": [
        " cnn.fit(x_train,y_train,epochs=3)"
      ],
      "metadata": {
        "colab": {
          "base_uri": "https://localhost:8080/"
        },
        "id": "ErzfPUCr7_1n",
        "outputId": "8863cc2d-5f93-4b6b-8f30-cf09ddd8e80b"
      },
      "execution_count": null,
      "outputs": [
        {
          "output_type": "stream",
          "name": "stdout",
          "text": [
            "Epoch 1/3\n",
            "1875/1875 [==============================] - 76s 41ms/step - loss: 0.0507 - accuracy: 0.9844\n",
            "Epoch 2/3\n",
            "1875/1875 [==============================] - 70s 37ms/step - loss: 0.0358 - accuracy: 0.9891\n",
            "Epoch 3/3\n",
            "1875/1875 [==============================] - 51s 27ms/step - loss: 0.0283 - accuracy: 0.9910\n"
          ]
        },
        {
          "output_type": "execute_result",
          "data": {
            "text/plain": [
              "<keras.callbacks.History at 0x7fb99d6f17d0>"
            ]
          },
          "metadata": {},
          "execution_count": 12
        }
      ]
    },
    {
      "cell_type": "code",
      "source": [
        "cnn.evaluate(x_test,y_test)"
      ],
      "metadata": {
        "colab": {
          "base_uri": "https://localhost:8080/"
        },
        "id": "p1KaHVeWCBzS",
        "outputId": "b3b8bd84-5227-4836-a72c-0e3204b7530d"
      },
      "execution_count": null,
      "outputs": [
        {
          "output_type": "stream",
          "name": "stdout",
          "text": [
            "313/313 [==============================] - 3s 10ms/step - loss: 0.0356 - accuracy: 0.9894\n"
          ]
        },
        {
          "output_type": "execute_result",
          "data": {
            "text/plain": [
              "[0.03563423082232475, 0.9894000291824341]"
            ]
          },
          "metadata": {},
          "execution_count": 13
        }
      ]
    },
    {
      "cell_type": "markdown",
      "source": [
        "# **Predicting Using Model**"
      ],
      "metadata": {
        "id": "PU1bUrZRCNlQ"
      }
    },
    {
      "cell_type": "code",
      "source": [
        "y_pred = cnn.predict(x_test)\n",
        "y_pred[::5]"
      ],
      "metadata": {
        "colab": {
          "base_uri": "https://localhost:8080/"
        },
        "id": "1nNeoY46CM5K",
        "outputId": "405eabda-58ae-469b-af6e-1b8fc816793a"
      },
      "execution_count": null,
      "outputs": [
        {
          "output_type": "stream",
          "name": "stdout",
          "text": [
            "313/313 [==============================] - 3s 10ms/step\n"
          ]
        },
        {
          "output_type": "execute_result",
          "data": {
            "text/plain": [
              "array([[1.99275746e-07, 1.07358176e-07, 4.81169172e-06, ...,\n",
              "        9.99938190e-01, 2.38201210e-08, 2.76416984e-07],\n",
              "       [8.57928484e-08, 9.99980509e-01, 1.86215161e-07, ...,\n",
              "        6.17433716e-06, 4.20769993e-07, 1.23061170e-06],\n",
              "       [9.99726176e-01, 1.64763911e-10, 8.52479025e-06, ...,\n",
              "        1.95965377e-09, 4.01548334e-07, 2.63655878e-04],\n",
              "       ...,\n",
              "       [4.50731221e-08, 4.94241540e-05, 9.99666452e-01, ...,\n",
              "        1.65211259e-05, 3.64819613e-07, 5.31839248e-08],\n",
              "       [8.30860500e-08, 1.55720700e-05, 7.12027395e-06, ...,\n",
              "        9.99827862e-01, 7.92472434e-08, 1.18850517e-06],\n",
              "       [5.30365840e-09, 8.00488397e-06, 9.99984443e-01, ...,\n",
              "        6.61631645e-07, 4.44680950e-08, 6.66340871e-11]], dtype=float32)"
            ]
          },
          "metadata": {},
          "execution_count": 14
        }
      ]
    },
    {
      "cell_type": "code",
      "source": [
        "def plot_sample(x,y,img_no):\n",
        "  plt.figure(figsize = (10,2))\n",
        "  plt.imshow(x[img_no])\n",
        "  plt.xlabel(y[img_no])"
      ],
      "metadata": {
        "id": "XU3Rg2rLwiq_"
      },
      "execution_count": null,
      "outputs": []
    },
    {
      "cell_type": "code",
      "source": [
        "print(\"Predictions\\n\")\n",
        "for img_no in range(5):\n",
        "  plot_sample(x_test,y_test,img_no)\n",
        "  max_index = np.argmax(y_pred[img_no])\n",
        "  print(\"Acutal:\",y_test[img_no],\"Predicted:\",max_index)"
      ],
      "metadata": {
        "colab": {
          "base_uri": "https://localhost:8080/",
          "height": 918
        },
        "id": "VTHZFrfaumPM",
        "outputId": "31b7d0e5-694d-4e64-e5da-6c82fda04109"
      },
      "execution_count": null,
      "outputs": [
        {
          "output_type": "stream",
          "name": "stdout",
          "text": [
            "Predictions\n",
            "\n",
            "Acutal: 7 Predicted: 7\n",
            "Acutal: 2 Predicted: 2\n",
            "Acutal: 1 Predicted: 1\n",
            "Acutal: 0 Predicted: 0\n",
            "Acutal: 4 Predicted: 4\n"
          ]
        },
        {
          "output_type": "display_data",
          "data": {
            "text/plain": [
              "<Figure size 720x144 with 1 Axes>"
            ],
            "image/png": "[encoded data removed]"
          },
          "metadata": {
            "needs_background": "light"
          }
        },
        {
          "output_type": "display_data",
          "data": {
            "text/plain": [
              "<Figure size 720x144 with 1 Axes>"
            ],
            "image/png": "[encoded data removed]"
          },
          "metadata": {
            "needs_background": "light"
          }
        },
        {
          "output_type": "display_data",
          "data": {
            "text/plain": [
              "<Figure size 720x144 with 1 Axes>"
            ],
            "image/png": "[encoded data removed]"
          },
          "metadata": {
            "needs_background": "light"
          }
        },
        {
          "output_type": "display_data",
          "data": {
            "text/plain": [
              "<Figure size 720x144 with 1 Axes>"
            ],
            "image/png": "[encoded data removed]"
          },
          "metadata": {
            "needs_background": "light"
          }
        },
        {
          "output_type": "display_data",
          "data": {
            "text/plain": [
              "<Figure size 720x144 with 1 Axes>"
            ],
            "image/png": "[encoded data removed]"
          },
          "metadata": {
            "needs_background": "light"
          }
        }
      ]
    }
  ]
}